{
  "cells": [
    {
      "cell_type": "code",
      "execution_count": null,
      "metadata": {
        "colab": {
          "base_uri": "https://localhost:8080/"
        },
        "id": "Gloq8aWEuhU6",
        "outputId": "f5602e32-7f00-41f0-d291-4f1c4fc4bb41"
      },
      "outputs": [],
      "source": [
        "# Download dependencies\n",
        "!pip install pillow"
      ]
    },
    {
      "cell_type": "code",
      "execution_count": null,
      "metadata": {
        "id": "w_1o5i2XmbSf"
      },
      "outputs": [
        {
          "name": "stderr",
          "output_type": "stream",
          "text": [
            "Matplotlib is building the font cache; this may take a moment.\n"
          ]
        },
        {
          "ename": "ModuleNotFoundError",
          "evalue": "No module named 'tensorflow'",
          "output_type": "error",
          "traceback": [
            "\u001b[31m---------------------------------------------------------------------------\u001b[39m",
            "\u001b[31mModuleNotFoundError\u001b[39m                       Traceback (most recent call last)",
            "\u001b[36mCell\u001b[39m\u001b[36m \u001b[39m\u001b[32mIn[2]\u001b[39m\u001b[32m, line 7\u001b[39m\n\u001b[32m      5\u001b[39m \u001b[38;5;28;01mfrom\u001b[39;00m\u001b[38;5;250m \u001b[39m\u001b[34;01msklearn\u001b[39;00m\u001b[34;01m.\u001b[39;00m\u001b[34;01mmodel_selection\u001b[39;00m\u001b[38;5;250m \u001b[39m\u001b[38;5;28;01mimport\u001b[39;00m train_test_split\n\u001b[32m      6\u001b[39m \u001b[38;5;28;01mfrom\u001b[39;00m\u001b[38;5;250m \u001b[39m\u001b[34;01mutils\u001b[39;00m\u001b[34;01m.\u001b[39;00m\u001b[34;01melpv_reader\u001b[39;00m\u001b[38;5;250m \u001b[39m\u001b[38;5;28;01mimport\u001b[39;00m load_dataset\n\u001b[32m----> \u001b[39m\u001b[32m7\u001b[39m \u001b[38;5;28;01mimport\u001b[39;00m\u001b[38;5;250m \u001b[39m\u001b[34;01mtensorflow\u001b[39;00m\u001b[38;5;250m \u001b[39m\u001b[38;5;28;01mas\u001b[39;00m\u001b[38;5;250m \u001b[39m\u001b[34;01mtf\u001b[39;00m\n\u001b[32m      8\u001b[39m \u001b[38;5;28;01mfrom\u001b[39;00m\u001b[38;5;250m \u001b[39m\u001b[34;01mtensorflow\u001b[39;00m\u001b[34;01m.\u001b[39;00m\u001b[34;01mkeras\u001b[39;00m\u001b[38;5;250m \u001b[39m\u001b[38;5;28;01mimport\u001b[39;00m layers\n\u001b[32m      9\u001b[39m \u001b[38;5;28;01mfrom\u001b[39;00m\u001b[38;5;250m \u001b[39m\u001b[34;01mtensorflow\u001b[39;00m\u001b[34;01m.\u001b[39;00m\u001b[34;01mkeras\u001b[39;00m\u001b[34;01m.\u001b[39;00m\u001b[34;01mutils\u001b[39;00m\u001b[38;5;250m \u001b[39m\u001b[38;5;28;01mimport\u001b[39;00m to_categorical\n",
            "\u001b[31mModuleNotFoundError\u001b[39m: No module named 'tensorflow'"
          ]
        }
      ],
      "source": [
        "# import required packages\n",
        "import os\n",
        "import pandas as pd\n",
        "import numpy as np\n",
        "import matplotlib.pyplot as plt\n",
        "from sklearn.model_selection import train_test_split\n",
        "from utils.elpv_reader import load_dataset\n",
        "import tensorflow as tf\n",
        "from tensorflow.keras import layers\n",
        "from tensorflow.keras.utils import to_categorical"
      ]
    },
    {
      "cell_type": "markdown",
      "metadata": {
        "id": "-gV3hAlqhcPt"
      },
      "source": [
        "# Dataset Exploration"
      ]
    },
    {
      "cell_type": "markdown",
      "metadata": {
        "id": "0l6GfUfc60uS"
      },
      "source": [
        "## Loading the dataset"
      ]
    },
    {
      "cell_type": "code",
      "execution_count": null,
      "metadata": {
        "id": "1r66LjfpvSdU"
      },
      "outputs": [],
      "source": [
        "def load_data():\n",
        "  images, probas, labels = load_dataset()\n",
        "\n",
        "  # Convert the type of the solar module \n",
        "  # to numerical values\n",
        "  labels[labels == \"mono\"] = 0\n",
        "  labels[labels == \"poly\"] = 1\n",
        "\n",
        "  # Convert the probabilities to classes\n",
        "  probas[probas >= 0.5] = 1. # the cell is defective\n",
        "  probas[probas < 0.5] = 0. # the cell is not defective\n",
        "\n",
        "  # Convert grayscale to rgb\n",
        "  # This is needed to adapt the data\n",
        "  # to the model's input format\n",
        "  rgb_imgs = np.repeat(images[..., np.newaxis],3,-1)\n",
        "  \n",
        "  # The images and the type of the cell\n",
        "  # are going to be the inputs to our model\n",
        "  X1 = rgb_imgs\n",
        "  X2 = labels\n",
        "\n",
        "  # The probabilities of being defective\n",
        "  # are going to be the outputs of our model\n",
        "  Y = probas\n",
        "\n",
        "  return X1,X2,Y"
      ]
    },
    {
      "cell_type": "code",
      "execution_count": null,
      "metadata": {
        "id": "SmccQBE67HMG"
      },
      "outputs": [],
      "source": [
        "X1,X2,Y = load_data()"
      ]
    },
    {
      "cell_type": "markdown",
      "metadata": {
        "id": "ZQUbEGI5hf8q"
      },
      "source": [
        "## Exploring the range of pixel intensities"
      ]
    },
    {
      "cell_type": "code",
      "execution_count": null,
      "metadata": {
        "colab": {
          "base_uri": "https://localhost:8080/"
        },
        "id": "VQqZjYOodWhH",
        "outputId": "4cfa8f12-9d2a-4419-986a-ade454bc02fc"
      },
      "outputs": [],
      "source": [
        "min_intensity = np.min(X1)\n",
        "max_intensity = np.max(X1)\n",
        "\n",
        "print(f\"The range of pixel intensities is between {min_intensity}-{max_intensity}\")"
      ]
    },
    {
      "cell_type": "markdown",
      "metadata": {
        "id": "5wkjMi3ZhmSA"
      },
      "source": [
        "## Exploring the target class distribution"
      ]
    },
    {
      "cell_type": "code",
      "execution_count": null,
      "metadata": {
        "colab": {
          "base_uri": "https://localhost:8080/"
        },
        "id": "ThurkZL3eJBt",
        "outputId": "b0196939-f6f5-4dab-a3a2-3f09e623d863"
      },
      "outputs": [],
      "source": [
        "pos_class = np.sum(Y)/len(Y)*100\n",
        "neg_class = (len(Y)-np.sum(Y))/len(Y)*100\n",
        "\n",
        "print(f'The dataset has {np.round(pos_class,2)} % defective cells and {np.round(neg_class,2)} % non-defective cells')"
      ]
    },
    {
      "cell_type": "markdown",
      "metadata": {
        "id": "VT8hL9E2zD8w"
      },
      "source": [
        "## Splitting the data"
      ]
    },
    {
      "cell_type": "code",
      "execution_count": null,
      "metadata": {
        "colab": {
          "base_uri": "https://localhost:8080/"
        },
        "id": "KNQSM4BgB_fH",
        "outputId": "46de1991-258a-4c7f-8b8f-dba4a9c25297"
      },
      "outputs": [],
      "source": [
        "# splitting the dataset\n",
        "# to train and validation\n",
        "X1_train,X1_val,Y_train,Y_val = train_test_split(X1,Y,test_size=0.2,random_state=13,stratify=Y)\n",
        "X2_train,X2_val,Y_train,Y_val = train_test_split(X2,Y,test_size=0.2,random_state=13,stratify=Y)\n",
        "\n",
        "print(f\"Training set size: {X1_train.shape} \\nValidation set size: {X1_val.shape}\")"
      ]
    },
    {
      "cell_type": "markdown",
      "metadata": {
        "id": "lK-fAhFxy6X7"
      },
      "source": [
        "## Visualizing the data"
      ]
    },
    {
      "cell_type": "code",
      "execution_count": null,
      "metadata": {
        "colab": {
          "base_uri": "https://localhost:8080/",
          "height": 386
        },
        "id": "zBDvH5cUy9kz",
        "outputId": "1a73fc71-5439-4b61-82d7-af042b2023e2"
      },
      "outputs": [],
      "source": [
        "import matplotlib.pyplot as plt\n",
        "\n",
        "defective_images = X1_train[Y_train == 1][:10]\n",
        "non_defective_images = X1_train[Y_train == 0][:5]\n",
        "\n",
        "cell_types_def = X2_train[Y_train == 1.][:5]\n",
        "cell_types_ndef = X2_train[Y_train ==0.][:5]\n",
        "\n",
        "plt.figure(figsize=(15,6))\n",
        "\n",
        "for i in range(5):\n",
        "    plt.subplot(2,5,i+1)\n",
        "    plt.imshow(defective_images[i,...])\n",
        "    plt.title(\"Defective cell type : \"+ (\"Poly\" if cell_types_ndef[i-5] == 1 else \"Mono\"))\n",
        "\n",
        "for i in range(5,10):\n",
        "    plt.subplot(2,5,i+1)\n",
        "    plt.imshow(non_defective_images[i-5,...])\n",
        "    plt.title(f\"Good cell type: \"+ (\"Poly\" if cell_types_ndef[i-5] == 1 else \"Mono\"))"
      ]
    },
    {
      "cell_type": "markdown",
      "metadata": {
        "id": "mQouLt4N0-Nw"
      },
      "source": [
        "# Data Preprocessing"
      ]
    },
    {
      "cell_type": "code",
      "execution_count": null,
      "metadata": {
        "id": "s7t6KzKlCiZA"
      },
      "outputs": [],
      "source": [
        "Y_train = to_categorical(Y_train,num_classes=2)\n",
        "Y_val = to_categorical(Y_val,num_classes=2)"
      ]
    },
    {
      "cell_type": "code",
      "execution_count": null,
      "metadata": {
        "id": "J8fkEYr-OyWf"
      },
      "outputs": [],
      "source": [
        "BATCH_SIZE = 32\n",
        "# this is the default size used by most of the pretrained Keras models\n",
        "image_size = (224, 224)\n",
        "\n",
        "train_datagen = tf.keras.preprocessing.image.ImageDataGenerator(\n",
        "        samplewise_center=False,\n",
        "        samplewise_std_normalization=False,\n",
        "        rescale=1./255,\n",
        "        shear_range=0.07, # do some data augmentation here\n",
        "        zoom_range=0.2,\n",
        "        rotation_range=30,\n",
        "        horizontal_flip=True,\n",
        "        vertical_flip=True)\n",
        "\n",
        "# create testing and validation data generator without augmentation\n",
        "val_datagen = tf.keras.preprocessing.image.ImageDataGenerator(\n",
        "        samplewise_center=False, \n",
        "        samplewise_std_normalization=False,\n",
        "        rescale=1./255\n",
        "        )\n",
        "\n"
      ]
    },
    {
      "cell_type": "code",
      "execution_count": null,
      "metadata": {
        "id": "mx4nLtX1PGLB"
      },
      "outputs": [],
      "source": [
        "train_ds = train_datagen.flow(x=tf.image.resize(X1_train,size=(224,224)),\n",
        "                              y=Y_train, \n",
        "                              batch_size=BATCH_SIZE)\n",
        "val_ds = val_datagen.flow(x=tf.image.resize(X1_val,size=(224,224)),\n",
        "                          y=Y_val,\n",
        "                          batch_size=BATCH_SIZE)"
      ]
    },
    {
      "cell_type": "markdown",
      "metadata": {
        "id": "bcVVHIImY1zF"
      },
      "source": [
        "# Building the model"
      ]
    },
    {
      "cell_type": "markdown",
      "metadata": {
        "id": "NmDaOqCMb2Ah"
      },
      "source": [
        "# Transfer Learning EfficientNet"
      ]
    },
    {
      "cell_type": "code",
      "execution_count": null,
      "metadata": {
        "colab": {
          "base_uri": "https://localhost:8080/"
        },
        "id": "xdRazYjgiWB5",
        "outputId": "0b485dc1-2819-4cc2-b3dc-ed8f3aaeb236"
      },
      "outputs": [],
      "source": [
        "def create_transfer_learning_model( \n",
        "                                   fine_tune=False,\n",
        "                                   fine_tune_at=None,\n",
        "                                   input_shape=(224,224,3),\n",
        "                                   base_learning_rate = 0.01\n",
        "                                   ):\n",
        "  \n",
        "\n",
        "    inputs = tf.keras.Input(shape=input_shape)\n",
        "    base_model = tf.keras.applications.EfficientNetV2B2(input_shape=input_shape, \n",
        "                                                     include_top=False,\n",
        "                                                     input_tensor=inputs,\n",
        "                                                     weights='imagenet',\n",
        "                                                     include_preprocessing=False,\n",
        "                                                   )\n",
        "    # Freeze the base model\n",
        "    base_model.trainable = False\n",
        "    \n",
        "    if fine_tune :\n",
        "        if not fine_tune_at:\n",
        "            raise Exception(\"You should specify from which\"+\n",
        "                            \" layer the model will be fine tuned\"\n",
        "                            )\n",
        "        else:\n",
        "            base_model.trainable = True\n",
        "            \n",
        "            # Freeze the lowest layers \n",
        "            # and fine tune the top layers\n",
        "            # starting from index \"fine_tune_at\"\n",
        "            for layer in base_model.layers[:fine_tune_at]:\n",
        "                layer.trainable = False\n",
        "  \n",
        "    x = base_model.output\n",
        "    x = layers.BatchNormalization()(x)\n",
        "    x = layers.GlobalAveragePooling2D()(x)\n",
        "    x = layers.BatchNormalization()(x)\n",
        "    x = tf.keras.layers.Dropout(0.2)(x)\n",
        "\n",
        "    outputs = layers.Dense(2,activation=\"softmax\")(x)\n",
        "    \n",
        "    model = tf.keras.Model(inputs, outputs)\n",
        "\n",
        "    # Compile the model\n",
        "    model.compile(optimizer=tf.keras.optimizers.Adam(learning_rate=base_learning_rate),\n",
        "                  loss= tf.keras.losses.CategoricalCrossentropy(from_logits=False),\n",
        "                  metrics=[tf.keras.metrics.CategoricalAccuracy()])\n",
        "    return model, base_model\n",
        "  \n",
        "model, base_model = create_transfer_learning_model()\n",
        "model.summary()"
      ]
    },
    {
      "cell_type": "code",
      "execution_count": null,
      "metadata": {
        "id": "6mMQb3szf196"
      },
      "outputs": [],
      "source": [
        "# Define Callbacks to save the best model\n",
        "if not os.path.exists(\"./models/\"):\n",
        "  os.makedirs(\"./models/\")\n",
        "  \n",
        "chkp_filepath= \"./models/best_efficient_net_b2_final2_{epoch:02d}.h5\"\n",
        "checkpoint = tf.keras.callbacks.ModelCheckpoint(chkp_filepath, verbose=1,\n",
        "                             save_best_only=True,monitor=\"val_categorical_accuracy\",mode='max',save_freq=\"epoch\")\n",
        "\n",
        "filename='logs_effecient_net_b2_final.csv'\n",
        "history_logger= tf.keras.callbacks.CSVLogger(filename, separator=\",\", append=True)\n",
        "\n",
        "'Custom callback to decrease learning rate by a factor of 3 every 3rd epoch'\n",
        "class DecreaseLR(tf.keras.callbacks.Callback):\n",
        "    def on_epoch_end(self, epoch, logs=None):\n",
        "        if epoch > 4 and epoch % 2 == 0:\n",
        "            self.model.optimizer.lr = self.model.optimizer.lr / 3"
      ]
    },
    {
      "cell_type": "code",
      "execution_count": null,
      "metadata": {
        "colab": {
          "base_uri": "https://localhost:8080/"
        },
        "id": "iUqq5jUos9hb",
        "outputId": "aeac4482-12a0-47ac-fde7-a20fc3ece454"
      },
      "outputs": [],
      "source": [
        "tf.random.set_seed(64)\n",
        "\n",
        "initial_epochs = 18\n",
        "\n",
        "loss0, accuracy0 = model.evaluate(val_ds)"
      ]
    },
    {
      "cell_type": "code",
      "execution_count": null,
      "metadata": {
        "colab": {
          "base_uri": "https://localhost:8080/"
        },
        "id": "TksFtSq2ddfn",
        "outputId": "62453d8f-4c0c-4b01-8d17-a56a75ca841d"
      },
      "outputs": [],
      "source": [
        "from sklearn.utils import class_weight\n",
        "\n",
        "# Calculate the weights for each class so that we can balance the data\n",
        "# y = np.argmax(Y_train,axis=-1)\n",
        "# weights = class_weight.compute_class_weight(class_weight = \"balanced\",\n",
        "#                                        classes = np.unique(y),\n",
        "#                                        y = y)\n",
        "# weights = dict(zip(np.unique(Y_train), weights))\n",
        "weights = {0.0:0.5, 1.0:1.5}\n",
        "\n",
        "initial_epochs = 18\n",
        "history = model.fit(train_ds,\n",
        "                    epochs=initial_epochs,\n",
        "                    validation_data=val_ds,\n",
        "                    callbacks=[history_logger, checkpoint,DecreaseLR()],\n",
        "                    class_weight=weights\n",
        "                    )\n"
      ]
    },
    {
      "cell_type": "markdown",
      "metadata": {
        "id": "ax27zjC_OwqO"
      },
      "source": [
        "## Model Evaluation"
      ]
    },
    {
      "cell_type": "code",
      "execution_count": null,
      "metadata": {
        "colab": {
          "base_uri": "https://localhost:8080/",
          "height": 513
        },
        "id": "OIWQOMuCapDF",
        "outputId": "e68979e1-bd9d-45ad-c6f3-e1294ab74ada"
      },
      "outputs": [],
      "source": [
        "acc = history.history['categorical_accuracy']\n",
        "val_acc = history.history['val_categorical_accuracy']\n",
        "\n",
        "loss = history.history['loss']\n",
        "val_loss = history.history['val_loss']\n",
        "\n",
        "plt.figure(figsize=(8, 8))\n",
        "plt.subplot(2, 1, 1)\n",
        "plt.plot(acc, label='Training Accuracy')\n",
        "plt.plot(val_acc, label='Validation Accuracy')\n",
        "plt.legend(loc='lower right')\n",
        "plt.ylabel('Accuracy')\n",
        "plt.ylim([min(plt.ylim()),1])\n",
        "plt.title('Training and Validation Accuracy')\n",
        "\n",
        "plt.subplot(2, 1, 2)\n",
        "plt.plot(loss, label='Training Loss')\n",
        "plt.plot(val_loss, label='Validation Loss')\n",
        "plt.legend(loc='upper right')\n",
        "plt.ylabel('Cross Entropy')\n",
        "plt.ylim([0,1.0])\n",
        "plt.title('Training and Validation Loss')\n",
        "plt.xlabel('epoch')\n",
        "plt.show()\n"
      ]
    },
    {
      "cell_type": "markdown",
      "metadata": {
        "id": "RpVIp8x6O1jp"
      },
      "source": [
        "## Visualize Predictions"
      ]
    },
    {
      "cell_type": "code",
      "execution_count": null,
      "metadata": {
        "id": "UIjF0CPtru9A"
      },
      "outputs": [],
      "source": [
        "# Load the best model trained in the previous phase\n",
        "# Notice that here I changed its name\n",
        "# So that you don't confuse it with your saved model\n",
        "# When reproducing the code\n",
        "best_model = tf.keras.models.load_model(\"./models/best_model.h5\")# Replace the path here with the path to your best model"
      ]
    },
    {
      "cell_type": "code",
      "execution_count": null,
      "metadata": {
        "colab": {
          "base_uri": "https://localhost:8080/",
          "height": 517
        },
        "id": "meNn53vb0Rt7",
        "outputId": "fe57fa21-709b-47cd-8064-248e8b73ba09"
      },
      "outputs": [],
      "source": [
        "# Let's load only 2 images \n",
        "# from the defective cells\n",
        "# Elsewhere we might run out of resources\n",
        "# When using GradCam\n",
        "image_btch = X1[Y == 1][1:3]\n",
        "labels = Y[Y== 1][1:3]\n",
        "\n",
        "# Preprocessing the images\n",
        "images = tf.image.resize(image_btch,size=(224,224))/255.\n",
        "\n",
        "# Running inference\n",
        "predictions = best_model.predict(images)\n",
        "predictions = tf.argmax(predictions,axis=-1)\n",
        "\n",
        "plt.figure(figsize=(20,8))\n",
        "\n",
        "for i in range(2):\n",
        "  plt.subplot(1,2,i+1)\n",
        "  plt.imshow(image_btch[i,...])\n",
        "  plt.title(f\"Defective cell? Pred : {predictions[i]}, Truth: {y_btch[i]}\")\n",
        "  "
      ]
    },
    {
      "cell_type": "markdown",
      "metadata": {
        "id": "bUyrGycsKcWB"
      },
      "source": [
        "# GRAD-CAM"
      ]
    },
    {
      "cell_type": "code",
      "execution_count": null,
      "metadata": {
        "colab": {
          "base_uri": "https://localhost:8080/"
        },
        "id": "emf7svH6fBKA",
        "outputId": "3e56f814-ac0f-4e3b-df33-92669721d051"
      },
      "outputs": [],
      "source": [
        "!pip install tf-keras-vis"
      ]
    },
    {
      "cell_type": "code",
      "execution_count": null,
      "metadata": {
        "id": "-wLApsLeamwf"
      },
      "outputs": [],
      "source": [
        "from matplotlib import cm\n",
        "def plot_images(images=None, maps=None):\n",
        "    num_images = 0\n",
        "    if images is not None:\n",
        "        num_images = len(images)\n",
        "    else:\n",
        "        num_images = len(maps)\n",
        "    _, ax = plt.subplots(1, num_images, figsize=(8, 4))\n",
        "    for i in range(num_images):\n",
        "        alpha = 0.3\n",
        "        if images is not None:\n",
        "            alpha = 0.3\n",
        "            image = images[i]\n",
        "            ax[i].imshow((image+1)/2,alpha=0.7)\n",
        "        if maps is not None:\n",
        "            mp = maps[i]\n",
        "            heatmap = np.uint8(cm.jet(mp)[..., :3] * 255)\n",
        "            ax[i].imshow(heatmap, cmap='jet', alpha=0.3)\n",
        "        ax[i].axis('off')\n",
        "    plt.tight_layout()"
      ]
    },
    {
      "cell_type": "code",
      "execution_count": null,
      "metadata": {
        "id": "7aakmAoVPnNt"
      },
      "outputs": [],
      "source": [
        "#from tf_keras_vis.utils.scores import CategoricalScore\n",
        "#score_function = CategoricalScore(labels.astype('int8').tolist())\n",
        "# Instead of using CategoricalScore object,\n",
        "# you can also define the function from scratch as follows:\n",
        "def score_function(output):\n",
        "    # The `output` variable refers to the output of the model,\n",
        "    # so, in this case, `output` shape is  (samples, nb_classes).\n",
        "    return [output[i, labels[i].astype('int8')] for i in range(output.shape[0])]"
      ]
    },
    {
      "cell_type": "code",
      "execution_count": null,
      "metadata": {
        "colab": {
          "base_uri": "https://localhost:8080/"
        },
        "id": "lVQx50LGnVFE",
        "outputId": "caaacf5d-ad55-4eb0-87f1-03f9217aa025"
      },
      "outputs": [],
      "source": [
        "best_model.layers[-6].output.shape"
      ]
    },
    {
      "cell_type": "code",
      "execution_count": null,
      "metadata": {
        "id": "wCW_CfSxsRRA"
      },
      "outputs": [],
      "source": [
        "from tensorflow.python.ops.numpy_ops import np_config\n",
        "np_config.enable_numpy_behavior()"
      ]
    },
    {
      "cell_type": "code",
      "execution_count": null,
      "metadata": {
        "colab": {
          "base_uri": "https://localhost:8080/"
        },
        "id": "saZa67SQYvoY",
        "outputId": "96d55577-c897-4081-aec3-5ba0f65e9632"
      },
      "outputs": [],
      "source": [
        "from tf_keras_vis.scorecam import Scorecam\n",
        "# Create ScoreCAM object\n",
        "scorecam = Scorecam(best_model)\n",
        "# Generate heatmap with Faster-ScoreCAM\n",
        "cam = scorecam(score_function, images[1:3], \n",
        "               penultimate_layer=-6,\n",
        "               seek_penultimate_conv_layer= False)\n"
      ]
    },
    {
      "cell_type": "code",
      "execution_count": null,
      "metadata": {
        "colab": {
          "base_uri": "https://localhost:8080/",
          "height": 297
        },
        "id": "KQ_mVJE2Wxxn",
        "outputId": "df7e823a-d3ff-4c83-aeec-e4f6d5327c4d"
      },
      "outputs": [],
      "source": [
        "# Render\n",
        "plot_images(images=images[1:3,...], maps=cam)"
      ]
    }
  ],
  "metadata": {
    "colab": {
      "provenance": []
    },
    "gpuClass": "standard",
    "kernelspec": {
      "display_name": "Python 3",
      "language": "python",
      "name": "python3"
    },
    "language_info": {
      "codemirror_mode": {
        "name": "ipython",
        "version": 3
      },
      "file_extension": ".py",
      "mimetype": "text/x-python",
      "name": "python",
      "nbconvert_exporter": "python",
      "pygments_lexer": "ipython3",
      "version": "3.13.5"
    }
  },
  "nbformat": 4,
  "nbformat_minor": 0
}
